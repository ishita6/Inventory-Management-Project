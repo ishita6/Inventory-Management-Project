{
 "cells": [
  {
   "cell_type": "code",
   "execution_count": null,
   "source": [
    "import json"
   ],
   "outputs": [],
   "metadata": {}
  },
  {
   "cell_type": "markdown",
   "source": [
    "Define the Dataset"
   ],
   "metadata": {}
  },
  {
   "cell_type": "code",
   "execution_count": null,
   "source": [
    "\n",
    "inventory = {  1 : {\"Product Name\" : \"Dairy Milk\" , \"Product Category\" : \"Chocolate\" , \"Product Price\" : 160 , \n",
    "               \"Product Rating\" : 5 , \"Product Inventory\" : 100},\n",
    "               2 : {\"Product Name\" : \"5 Star\" , \"Product Category\" : \"Chocolate\" , \"Product Price\" : 120 , \n",
    "               \"Product Rating\" : 5 , \"Product Inventory\" : 100},\n",
    "               3 : {\"Product Name\" : \"Snickers\" , \"Product Category\" : \"Chocolate\" , \"Product Price\" : 498 , \n",
    "               \"Product Rating\" : 5 , \"Product Inventory\" : 100},\n",
    "               4 : {\"Product Name\" : \"Milky Bar\" , \"Product Category\" : \"Chocolate\" , \"Product Price\" : 200 , \n",
    "               \"Product Rating\" : 5 , \"Product Inventory\" : 100},\n",
    "               5 : {\"Product Name\" : \"Hersheys\" , \"Product Category\" : \"Chocolate\" , \"Product Price\" : 800 , \n",
    "               \"Product Rating\" : 5 , \"Product Inventory\" : 100},\n",
    "               6 : {\"Product Name\" : \"Protein bar\" , \"Product Category\" : \"Chocolate\" , \"Product Price\" : 600 , \n",
    "               \"Product Rating\" : 5 , \"Product Inventory\" : 100},\n",
    "               7 : {\"Product Name\" : \"Fuse\" , \"Product Category\" : \"Chocolate\" , \"Product Price\" : 300 , \n",
    "               \"Product Rating\" : 5 , \"Product Inventory\" : 100},\n",
    "               8 : {\"Product Name\" : \"Silk oreo\" , \"Product Category\" : \"Chocolate\" , \"Product Price\" : 130 , \n",
    "               \"Product Rating\" : 5 , \"Product Inventory\" : 100},\n",
    "               9 : {\"Product Name\" : \"Bournviell\" , \"Product Category\" : \"Chocolate\" , \"Product Price\" : 500 , \n",
    "               \"Product Rating\" : 5 , \"Product Inventory\" : 100},\n",
    "               10 : {\"Product Name\" : \"Temptation\" , \"Product Category\" : \"Chocolate\" , \"Product Price\" : 120 , \n",
    "               \"Product Rating\" : 5 , \"Product Inventory\" : 100},\n",
    "               11 : {\"Product Name\" : \"silk bubbly\" , \"Product Category\" : \"Chocolate\" , \"Product Price\" : 160 , \n",
    "               \"Product Rating\" : 5 , \"Product Inventory\" : 100},\n",
    "               12 : {\"Product Name\" : \"Galaxy\" , \"Product Category\" : \"Chocolate\" , \"Product Price\" : 100 , \n",
    "               \"Product Rating\" : 5 , \"Product Inventory\" : 100},\n",
    "               13 : {\"Product Name\" : \"dairy milk crackle\" , \"Product Category\" : \"Chocolate\" , \"Product Price\" : 130 , \n",
    "               \"Product Rating\" : 5 , \"Product Inventory\" : 100},\n",
    "               14 : {\"Product Name\" : \"ferrero Rocher\" , \"Product Category\" : \"Chocolate\" , \"Product Price\" : 1000 , \n",
    "               \"Product Rating\" : 5 , \"Product Inventory\" : 100},\n",
    "               15 : {\"Product Name\" : \"perk\" , \"Product Category\" : \"Chocolate\" , \"Product Price\" : 100 , \n",
    "               \"Product Rating\" : 5 , \"Product Inventory\" : 100},\n",
    "               16 : {\"Product Name\" : \"Munch\" , \"Product Category\" : \"Chocolate\" , \"Product Price\" : 200 , \n",
    "               \"Product Rating\" : 5 , \"Product Inventory\" : 100},\n",
    "               17 : {\"Product Name\" : \"crespello\" , \"Product Category\" : \"Chocolate\" , \"Product Price\" : 600 , \n",
    "               \"Product Rating\" : 5 , \"Product Inventory\" : 100},\n",
    "               18 : {\"Product Name\" : \"KitKat\" , \"Product Category\" : \"Chocolate\" , \"Product Price\" : 125 , \n",
    "               \"Product Rating\" : 5 , \"Product Inventory\" : 100},\n",
    "               19 : {\"Product Name\" : \"Fruit and nut dairy milk\" , \"Product Category\" : \"Chocolate\" , \"Product Price\" : 320 , \n",
    "               \"Product Rating\" : 5 , \"Product Inventory\" : 100},\n",
    "               20 : {\"Product Name\" : \"Amul dark chocolate\" , \"Product Category\" : \"Chocolate\" , \"Product Price\" : 400 , \n",
    "               \"Product Rating\" : 5 , \"Product Inventory\" : 100},\n",
    "               21 : {\"Product Name\" : \"choco chip\" , \"Product Category\" : \"Chocolate\" , \"Product Price\" : 600 , \n",
    "               \"Product Rating\" : 5 , \"Product Inventory\" : 100},\n",
    "               22 : {\"Product Name\" : \"caramel silk\" , \"Product Category\" : \"Chocolate\" , \"Product Price\" : 550 , \n",
    "               \"Product Rating\" : 5 , \"Product Inventory\" : 100},\n",
    "               23 : {\"Product Name\" : \"coconut chocolate\" , \"Product Category\" : \"Chocolate\" , \"Product Price\" : 500 , \n",
    "               \"Product Rating\" : 5 , \"Product Inventory\" : 100},\n",
    "               24 : {\"Product Name\" : \"Lindt\" , \"Product Category\" : \"Chocolate\" , \"Product Price\" : 700 , \n",
    "               \"Product Rating\" : 5 , \"Product Inventory\" : 100},\n",
    "               25 : {\"Product Name\" : \"Mars\" , \"Product Category\" : \"Chocolate\" , \"Product Price\" : 90 , \n",
    "               \"Product Rating\" : 5 , \"Product Inventory\" : 100},\n",
    "               26 : {\"Product Name\" : \"bounty\" , \"Product Category\" : \"Chocolate\" , \"Product Price\" : 130 , \n",
    "               \"Product Rating\" : 5 , \"Product Inventory\" : 100},\n",
    "               27 : {\"Product Name\" : \"twix\" , \"Product Category\" : \"Chocolate\" , \"Product Price\" : 220 , \n",
    "               \"Product Rating\" : 5 , \"Product Inventory\" : 100},\n",
    "               28 : {\"Product Name\" : \"crunchie\" , \"Product Category\" : \"Chocolate\" , \"Product Price\" : 499 , \n",
    "               \"Product Rating\" : 5 , \"Product Inventory\" : 100},\n",
    "               29 : {\"Product Name\" : \"Bar1\" , \"Product Category\" : \"Chocolate\" , \"Product Price\" : 200 , \n",
    "               \"Product Rating\" : 5 , \"Product Inventory\" : 100},\n",
    "               30 : {\"Product Name\" : \"Tobleron\" , \"Product Category\" : \"Chocolate\" , \"Product Price\" : 530 , \n",
    "               \"Product Rating\" : 5 , \"Product Inventory\" : 100} }\n",
    "                                                                 "
   ],
   "outputs": [],
   "metadata": {}
  },
  {
   "cell_type": "markdown",
   "source": [
    "Creating .json file"
   ],
   "metadata": {}
  },
  {
   "cell_type": "code",
   "execution_count": null,
   "source": [
    "js = json.dumps(inventory)\n",
    "\n",
    "fd = open(\"Inventory.json\",\"w\")\n",
    "fd.write(js)\n",
    "fd.close()\n",
    "\n",
    "fd = open(\"Inventory.json\",\"r\")\n",
    "inv = fd.read()\n",
    "txt = json.loads(inv)\n",
    "\n",
    "fd.close()"
   ],
   "outputs": [],
   "metadata": {}
  },
  {
   "cell_type": "markdown",
   "source": [
    "Purchasing the items"
   ],
   "metadata": {}
  },
  {
   "cell_type": "code",
   "execution_count": null,
   "source": [
    "\n",
    "print(\"Thanks for choosing us\\n*********************\")\n",
    "    \n",
    "UId = input(\"Please enter product unique id (1-30): \")\n",
    "\n",
    "temp = txt[UId]\n",
    "\n",
    "if temp[\"Product Inventory\"] == 0:\n",
    "    print(\"\\nSorry, we are all out of\" , temp[\"Product Name\"] ,\".\", \"\\nIt will be available soon.\")\n",
    "    \n",
    "print(\"\\nHere is the product you searched for : \", txt[UId][\"Product Name\"] , \" which is a\" ,\n",
    "      txt[UId][\"Product Rating\"], \" Star \" , txt[UId][\"Product Category\"],\n",
    "      \" and costs ₹ \", txt[UId][\"Product Price\"] , \".\" )\n",
    "\n",
    "print(\"Quantity of \" , txt[UId][\"Product Name\"] , \"you would you like to buy?\")\n",
    "\n",
    "UId_quant = int(input())\n",
    "\n",
    "cost = temp[\"Product Price\"] * UId_quant \n",
    "\n",
    "print(\"Total cost is: \" ,cost )\n",
    "\n",
    "coupon = str(input(\"Apply coupon code(if any) : \"))\n",
    "if coupon == \"SAVE50\":\n",
    "      cost -= 50\n",
    "      print(\"Your new bill is :\" , cost)  \n",
    "elif coupon == \"SAVE100\":\n",
    "      cost -= 100\n",
    "      print(\"Your new bill is :\" , cost)  \n",
    "else:        \n",
    "      print(\"\")\n",
    "   \n",
    "\n",
    "confirm = str(input(\"Would you like to continue with the purchase? (Y/N)\")) \n",
    "             \n",
    "\n",
    "if confirm == \"Y\" or confirm == \"y\" or confirm == \"yes\" or confirm == \"YES\":\n",
    "    print(\"Thanks for the purchase.Have a great day\")\n",
    "    txt[UId][\"Product Inventory\"] -= UId_quant    \n",
    "    js = json.dumps(txt)\n",
    "    fd = open(\"inventory.json\", \"w\")\n",
    "    fd.write(js)\n",
    "    fd.close()  \n",
    "    \n",
    "elif confirm == \"N\" or confirm == \"n\" or confirm == \"no\" or confirm == \"NO\":\n",
    "    print(\"Thank you for your time, hope to see you again.\")\n",
    "else:\n",
    "    print(\"Please give a valid answer\")\n"
   ],
   "outputs": [],
   "metadata": {}
  },
  {
   "cell_type": "markdown",
   "source": [
    "Storing the record of the sale on every purchase"
   ],
   "metadata": {}
  },
  {
   "cell_type": "code",
   "execution_count": null,
   "source": [
    "\n",
    "sale = {}\n",
    "\n",
    "if confirm == \"Y\" or confirm == \"y\" or confirm == \"yes\" or confirm == \"YES\":\n",
    "     sale[\"Product Id \"] = UId\n",
    "     sale[\"Product Name \"] = txt[UId][\"Product Name\"]\n",
    "     sale[\"Units sold \"] = UId_quant\n",
    "     sale[\"Profit made \"] = cost  \n",
    "    \n",
    "\n",
    "js = json.dumps(sale)\n",
    "fd = open(\"sales.json\", \"a\")\n",
    "fd.write(js)\n",
    "fd.close()\n"
   ],
   "outputs": [],
   "metadata": {}
  },
  {
   "cell_type": "markdown",
   "source": [
    "Addition of inventory"
   ],
   "metadata": {}
  },
  {
   "cell_type": "code",
   "execution_count": null,
   "source": [
    "\n",
    "print(\"Please enter the password: \")\n",
    "answer = str(input())\n",
    "\n",
    "if answer == \"owner\":\n",
    "    ID = int(input(\"Enter UID\"))\n",
    "    if ID <= 30 and ID >=1:\n",
    "        print(\"The product is :\" , inventory[ID])\n",
    "        add = int(input(\"Enter quantity to add :\"))\n",
    "        inventory[ID][\"Product Inventory\"] += add\n",
    "        print(\"new inventory is = \" , inventory[ID][\"Product Inventory\"])\n",
    "\n",
    "    else :\n",
    "        print(\"UID Invalid\")\n",
    "        \n",
    "else:\n",
    "    print(\"Wrong password\")\n",
    "    \n",
    "    \n",
    "js = json.dumps(inventory)\n",
    "fd = open(\"inventory.json\", \"w\")\n",
    "fd.write(js)\n",
    "fd.close()"
   ],
   "outputs": [],
   "metadata": {}
  },
  {
   "cell_type": "code",
   "execution_count": null,
   "source": [],
   "outputs": [],
   "metadata": {}
  }
 ],
 "metadata": {
  "kernelspec": {
   "name": "python3",
   "display_name": "Python 3.8.2 64-bit"
  },
  "language_info": {
   "codemirror_mode": {
    "name": "ipython",
    "version": 3
   },
   "file_extension": ".py",
   "mimetype": "text/x-python",
   "name": "python",
   "nbconvert_exporter": "python",
   "pygments_lexer": "ipython3",
   "version": "3.8.2"
  },
  "interpreter": {
   "hash": "31f2aee4e71d21fbe5cf8b01ff0e069b9275f58929596ceb00d14d90e3e16cd6"
  }
 },
 "nbformat": 4,
 "nbformat_minor": 5
}